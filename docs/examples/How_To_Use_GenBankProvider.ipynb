{
 "cells": [
  {
   "cell_type": "markdown",
   "metadata": {},
   "source": [
    "# How to Use the GenBank Type Provider\n",
    "This notebook outlines how the GenBank Type Provider can be used to access the genomic data stored in the GenBank FTP server. The following topics are covered:\n",
    "\n",
    "1. How to create a typed representation of a GenBank Assembly\n",
    "2. How to use wildcards to create a typed representation of a GenBank Assembly\n",
    "3. How to access the Genome of a GenBank Assembly"
   ]
  },
  {
   "cell_type": "markdown",
   "metadata": {},
   "source": [
    "## Creating a Typed Representation of a GenBank Assembly\n",
    "If the taxon, species, and assembly names are all known, the GenBankProvider can directly create the typed representation of the GenBank Assembly. \n",
    "\n",
    "The below example shows how the genomic sequence in an Assembly can be accessed."
   ]
  },
  {
   "cell_type": "code",
   "execution_count": null,
   "metadata": {
    "dotnet_interactive": {
     "language": "fsharp"
    },
    "vscode": {
     "languageId": "dotnet-interactive.fsharp"
    }
   },
   "outputs": [
    {
     "data": {
      "text/html": [
       "<div><div></div><div></div><div><strong>Installed Packages</strong><ul><li><span>BioProviders, 1.0.0</span></li></ul></div></div>"
      ]
     },
     "metadata": {},
     "output_type": "display_data"
    },
    {
     "name": "stdout",
     "output_type": "stream",
     "text": [
      "The first 20 bases for the sequence are: GTTATATTGGAGAATTAGCT\r\n"
     ]
    }
   ],
   "source": [
    "// Load the BioProviders Project\n",
    "#r \"nuget: BioProviders, 1.0.0\"\n",
    "\n",
    "open BioProviders\n",
    "\n",
    "\n",
    "// Generate the Assembly Type\n",
    "let [<Literal>] Taxon = \"bacteria\"\n",
    "let [<Literal>] Species = \"Staphylococcus_lugdunensis\"\n",
    "let [<Literal>] Assembly = \"GCA_000185485.1_ASM18548v1\"\n",
    "\n",
    "type AssemblyType = GenBankProvider<Taxon, Species, Assembly>\n",
    "\n",
    "\n",
    "// Use the Assembly Type\n",
    "let gbff = AssemblyType.Genome()\n",
    "\n",
    "gbff.Sequence.GetSubSequence 0 20\n",
    "|> fun x -> x.ToString()\n",
    "|> printfn \"The first 20 bases for the sequence are: %s\"\n"
   ]
  },
  {
   "cell_type": "markdown",
   "metadata": {},
   "source": [
    "### Code Breakdown"
   ]
  },
  {
   "cell_type": "markdown",
   "metadata": {},
   "source": [
    "**1. Loading the BioProviders Project**\n",
    "\n",
    "Loading the BioProviders Project into your code makes the GenBank Type Provider accessible to your programs."
   ]
  },
  {
   "cell_type": "code",
   "execution_count": null,
   "metadata": {
    "dotnet_interactive": {
     "language": "fsharp"
    },
    "vscode": {
     "languageId": "dotnet-interactive.fsharp"
    }
   },
   "outputs": [
    {
     "data": {
      "text/html": [
       "<div><div></div><div></div><div><strong>Installed Packages</strong><ul><li><span>BioProviders, 1.0.0</span></li></ul></div></div>"
      ]
     },
     "metadata": {},
     "output_type": "display_data"
    }
   ],
   "source": [
    "#r \"nuget: BioProviders, 1.0.0\"\n",
    "\n",
    "open BioProviders\n"
   ]
  },
  {
   "cell_type": "markdown",
   "metadata": {},
   "source": [
    "**2. Generating the Assembly Type**\n",
    "\n",
    "To directly create a GenBank Assembly, the following information must be known:\n",
    "\n",
    "* Taxonomic group\n",
    "* Species \n",
    "* Assembly name\n",
    "\n",
    "Once this information is known, the GenBank Assembly Type can be generated. If these parameters are defined outside of the Type Provider, they must be marked as [`<Literal>`].\n"
   ]
  },
  {
   "cell_type": "code",
   "execution_count": null,
   "metadata": {
    "dotnet_interactive": {
     "language": "fsharp"
    },
    "vscode": {
     "languageId": "dotnet-interactive.fsharp"
    }
   },
   "outputs": [],
   "source": [
    "// The taxonomic group of the species\n",
    "let [<Literal>] Taxon = \"bacteria\"\n",
    "\n",
    "// The species name in the form Genus_species\n",
    "let [<Literal>] Species = \"Staphylococcus_lugdunensis\"\n",
    "\n",
    "// The assembly name\n",
    "let [<Literal>] Assembly = \"GCA_000185485.1_ASM18548v1\"\n",
    "\n",
    "// Create the Assembly Type\n",
    "type AssemblyType = GenBankProvider<Taxon, Species, Assembly>\n"
   ]
  },
  {
   "cell_type": "markdown",
   "metadata": {},
   "source": [
    "**3. Using the Assembly Type**\n",
    "\n",
    "After following these steps, the GenBank Assembly Type has been created and can now be used in your programs. For example, you can now access the genomic sequence of the assembly."
   ]
  },
  {
   "cell_type": "code",
   "execution_count": null,
   "metadata": {
    "dotnet_interactive": {
     "language": "fsharp"
    },
    "vscode": {
     "languageId": "dotnet-interactive.fsharp"
    }
   },
   "outputs": [
    {
     "name": "stdout",
     "output_type": "stream",
     "text": [
      "The first 20 bases for the sequence are: GTTATATTGGAGAATTAGCT\r\n"
     ]
    }
   ],
   "source": [
    "// Load the GenBank Flat File\n",
    "let gbff = AssemblyType.Genome()\n",
    "\n",
    "// Print the start of the sequence\n",
    "gbff.Sequence.GetSubSequence 0 20\n",
    "|> fun x -> x.ToString()\n",
    "|> printfn \"The first 20 bases for the sequence are: %s\"\n"
   ]
  },
  {
   "cell_type": "markdown",
   "metadata": {},
   "source": [
    "## Using Wildcards to Create a Typed Representation of a GenBank Assembly\n",
    "Wildcard operators can be used to access collections of taxa, species, or assemblies based a provided pattern. This is useful if the full taxon, species, or assembly names are not known."
   ]
  },
  {
   "cell_type": "markdown",
   "metadata": {},
   "source": [
    "### Assembly Wildcards"
   ]
  },
  {
   "cell_type": "markdown",
   "metadata": {},
   "source": [
    "**1. All Assemblies**\n",
    "\n",
    "To access all assemblies for a species, the Assembly parameter can be excluded from the Type Provider. This will generate a type containing all the assemblies for the species. Then, a single assembly can be selected from the provided list."
   ]
  },
  {
   "cell_type": "code",
   "execution_count": null,
   "metadata": {
    "dotnet_interactive": {
     "language": "fsharp"
    },
    "vscode": {
     "languageId": "dotnet-interactive.fsharp"
    }
   },
   "outputs": [
    {
     "data": {
      "text/html": [
       "<div><div></div><div></div><div><strong>Installed Packages</strong><ul><li><span>BioProviders, 1.0.0</span></li></ul></div></div>"
      ]
     },
     "metadata": {},
     "output_type": "display_data"
    }
   ],
   "source": [
    "// Load the BioProviders Project\n",
    "#r \"nuget: BioProviders, 1.0.0\"\n",
    "\n",
    "open BioProviders\n",
    "\n",
    "// Generate the Assembly Type\n",
    "let [<Literal>] Taxon = \"bacteria\"\n",
    "let [<Literal>] Species = \"Staphylococcus_lugdunensis\"\n",
    "\n",
    "type Assemblies = GenBankProvider<Taxon, Species>\n",
    "type AssemblyType = Assemblies.``GCA_000185485.1_ASM18548v1``\n",
    "\n",
    "// Load the GenBank Flat File for the Assembly\n",
    "let gbff = AssemblyType.Genome()\n"
   ]
  },
  {
   "cell_type": "markdown",
   "metadata": {},
   "source": [
    "**2. Subset of Assemblies**\n",
    "\n",
    "To access a subset of assemblies for a species, the \\* operator can be used at the end of the Assembly parameter to match all assemblies beginning with the specified pattern. This will generate a type containing all the assemblies matching the pattern. Then, a single assembly can be selected."
   ]
  },
  {
   "cell_type": "code",
   "execution_count": null,
   "metadata": {
    "dotnet_interactive": {
     "language": "fsharp"
    },
    "vscode": {
     "languageId": "dotnet-interactive.fsharp"
    }
   },
   "outputs": [
    {
     "data": {
      "text/html": [
       "<div><div></div><div></div><div><strong>Installed Packages</strong><ul><li><span>BioProviders, 1.0.0</span></li></ul></div></div>"
      ]
     },
     "metadata": {},
     "output_type": "display_data"
    }
   ],
   "source": [
    "// Load the BioProviders Project\n",
    "#r \"nuget: BioProviders, 1.0.0\"\n",
    "\n",
    "open BioProviders\n",
    "\n",
    "// Generate the Assembly Type\n",
    "let [<Literal>] Taxon = \"bacteria\"\n",
    "let [<Literal>] Species = \"Staphylococcus_lugdunensis\"\n",
    "let [<Literal>] Assembly = \"GCA_000*\"\n",
    "\n",
    "type Assemblies = GenBankProvider<Taxon, Species, Assembly>\n",
    "type AssemblyType = Assemblies.``GCA_000185485.1_ASM18548v1``\n",
    "\n",
    "// Load the GenBank Flat File for the Assembly\n",
    "let gbff = AssemblyType.Genome()\n"
   ]
  },
  {
   "cell_type": "markdown",
   "metadata": {},
   "source": [
    "### Species Wildcards\n",
    "Species wildcards have not yet been implemented."
   ]
  },
  {
   "cell_type": "markdown",
   "metadata": {},
   "source": [
    "### Taxon Wildcards\n",
    "Taxon wildcards have not yet been implemented."
   ]
  },
  {
   "cell_type": "markdown",
   "metadata": {},
   "source": [
    "### Mixed Wildcards\n",
    "It is not yet possible to mix wildcards."
   ]
  },
  {
   "cell_type": "markdown",
   "metadata": {},
   "source": [
    "## Accessing the Genome of an Assembly\n"
   ]
  },
  {
   "cell_type": "code",
   "execution_count": null,
   "metadata": {
    "dotnet_interactive": {
     "language": "fsharp"
    },
    "vscode": {
     "languageId": "dotnet-interactive.fsharp"
    }
   },
   "outputs": [
    {
     "data": {
      "text/html": [
       "<div><div></div><div></div><div><strong>Installed Packages</strong><ul><li><span>BioProviders, 1.0.0</span></li></ul></div></div>"
      ]
     },
     "metadata": {},
     "output_type": "display_data"
    }
   ],
   "source": [
    "// Load the BioProviders Project\n",
    "#r \"nuget: BioProviders, 1.0.0\"\n",
    "\n",
    "open BioProviders\n",
    "\n",
    "// Generate the Assembly Type\n",
    "let [<Literal>] Taxon = \"bacteria\"\n",
    "let [<Literal>] Species = \"Staphylococcus_lugdunensis\"\n",
    "\n",
    "type Assemblies = GenBankProvider<Taxon, Species>\n",
    "type AssemblyType = Assemblies.``GCA_000185485.1_ASM18548v1``\n",
    "\n",
    "// Load the GenBank Flat File for the Assembly\n",
    "let gbff = AssemblyType.Genome()\n"
   ]
  },
  {
   "cell_type": "markdown",
   "metadata": {},
   "source": [
    "### Sequence"
   ]
  },
  {
   "cell_type": "markdown",
   "metadata": {},
   "source": [
    "**1. Get the Length of the Sequence**"
   ]
  },
  {
   "cell_type": "code",
   "execution_count": null,
   "metadata": {
    "dotnet_interactive": {
     "language": "fsharp"
    },
    "vscode": {
     "languageId": "dotnet-interactive.fsharp"
    }
   },
   "outputs": [
    {
     "name": "stdout",
     "output_type": "stream",
     "text": [
      "The sequence length using the Count property is: 1265228\r\n",
      "The sequence length using Seq.length is: 1265228\r\n"
     ]
    }
   ],
   "source": [
    "// Extract the sequence from the GenBank Flat File\n",
    "let sequence = gbff.Sequence\n",
    "\n",
    "// Get the sequence length using inbuilt Count property\n",
    "let sequence_count = sequence.Count\n",
    "\n",
    "// Get the sequence length using Seq.length\n",
    "let sequence_length = sequence |> Seq.length\n",
    "\n",
    "// Display the string\n",
    "printfn \"The sequence length using the Count property is: %d\" sequence_count\n",
    "printfn \"The sequence length using Seq.length is: %d\" sequence_length\n"
   ]
  },
  {
   "cell_type": "markdown",
   "metadata": {},
   "source": [
    "**2. Converting Sequence to String**"
   ]
  },
  {
   "cell_type": "code",
   "execution_count": null,
   "metadata": {
    "dotnet_interactive": {
     "language": "fsharp"
    },
    "vscode": {
     "languageId": "dotnet-interactive.fsharp"
    }
   },
   "outputs": [
    {
     "name": "stdout",
     "output_type": "stream",
     "text": [
      "The sequence as a string is: GTTATATTGGAGAATTAGCTCAGCTGGGAGAGCATCTGCCTTACAAGCAGAGGGTCGGCGGTTC... +[1265164]\r\n"
     ]
    }
   ],
   "source": [
    "// Extract the sequence from the GenBank Flat File\n",
    "let sequence = gbff.Sequence\n",
    "\n",
    "// Convert the sequence to a string\n",
    "let sequence_string = sequence.ToString()\n",
    "\n",
    "// Display the string\n",
    "printfn \"The sequence as a string is: %s\" sequence_string\n"
   ]
  },
  {
   "cell_type": "markdown",
   "metadata": {},
   "source": [
    "**3. Get Sequence Complement**"
   ]
  },
  {
   "cell_type": "code",
   "execution_count": null,
   "metadata": {
    "dotnet_interactive": {
     "language": "fsharp"
    },
    "vscode": {
     "languageId": "dotnet-interactive.fsharp"
    }
   },
   "outputs": [
    {
     "name": "stdout",
     "output_type": "stream",
     "text": [
      "The complemented sequence is: CAATATAACCTCTTAATCGAGTCGACCCTCTCGTAGACGGAATGTTCGTCTCCCAGCCGCCAAG... +[1265164]\r\n"
     ]
    }
   ],
   "source": [
    "// Extract the sequence from the GenBank Flat File\n",
    "let sequence = gbff.Sequence\n",
    "\n",
    "// Get the complement and convert to a string\n",
    "let complemented_sequence = sequence.GetComplementedSequence()\n",
    "let sequence_string = complemented_sequence.ToString()\n",
    "\n",
    "// Display the string\n",
    "printfn \"The complemented sequence is: %s\" sequence_string\n"
   ]
  },
  {
   "cell_type": "markdown",
   "metadata": {},
   "source": [
    "**4. Get Reverse Sequence**"
   ]
  },
  {
   "cell_type": "code",
   "execution_count": null,
   "metadata": {
    "dotnet_interactive": {
     "language": "fsharp"
    },
    "vscode": {
     "languageId": "dotnet-interactive.fsharp"
    }
   },
   "outputs": [
    {
     "name": "stdout",
     "output_type": "stream",
     "text": [
      "The reversed sequence is: CGACTGCATAAGACTGGATATCTTTTATGTTTAATTTACGCTATGAAGTTTTTACTTTTTCAAT... +[1265164]\r\n"
     ]
    }
   ],
   "source": [
    "// Extract the sequence from the GenBank Flat File\n",
    "let sequence = gbff.Sequence\n",
    "\n",
    "// Get the reverse and convert to a string\n",
    "let reversed_sequence = sequence.GetReversedSequence()\n",
    "let sequence_string = reversed_sequence.ToString()\n",
    "\n",
    "// Display the string\n",
    "printfn \"The reversed sequence is: %s\" sequence_string\n"
   ]
  },
  {
   "cell_type": "markdown",
   "metadata": {},
   "source": [
    "**5. Get Reverse-Complement Sequence**"
   ]
  },
  {
   "cell_type": "code",
   "execution_count": null,
   "metadata": {
    "dotnet_interactive": {
     "language": "fsharp"
    },
    "vscode": {
     "languageId": "dotnet-interactive.fsharp"
    }
   },
   "outputs": [
    {
     "name": "stdout",
     "output_type": "stream",
     "text": [
      "The reverse-complement sequence is: GCTGACGTATTCTGACCTATAGAAAATACAAATTAAATGCGATACTTCAAAAATGAAAAAGTTA... +[1265164]\r\n"
     ]
    }
   ],
   "source": [
    "// Extract the sequence from the GenBank Flat File\n",
    "let sequence = gbff.Sequence\n",
    "\n",
    "// Get the reverse-complement and convert to a string\n",
    "let reversed_sequence = sequence.GetReverseComplementedSequence()\n",
    "let sequence_string = reversed_sequence.ToString()\n",
    "\n",
    "// Display the string\n",
    "printfn \"The reverse-complement sequence is: %s\" sequence_string\n"
   ]
  },
  {
   "cell_type": "markdown",
   "metadata": {},
   "source": [
    "**6. Get Sub-Sequence**"
   ]
  },
  {
   "cell_type": "code",
   "execution_count": null,
   "metadata": {
    "dotnet_interactive": {
     "language": "fsharp"
    },
    "vscode": {
     "languageId": "dotnet-interactive.fsharp"
    }
   },
   "outputs": [
    {
     "name": "stdout",
     "output_type": "stream",
     "text": [
      "The sub-sequence starting at 30 and ending at 50 is: AGCATCTGCCTTACAAGCAGAGGGTCGGCGGTTCGAACCCGTCATTCTCC\r\n"
     ]
    }
   ],
   "source": [
    "// Extract the sequence from the GenBank Flat File\n",
    "let sequence = gbff.Sequence\n",
    "\n",
    "// Get the sub-sequence using int64 notation for indices\n",
    "let first = 30L\n",
    "let last = 50L\n",
    "let subsequence = sequence.GetSubSequence first last\n",
    "let sequence_string = subsequence.ToString()\n",
    "\n",
    "// Display the string\n",
    "printfn \"The sub-sequence starting at %d and ending at %d is: %s\" first last sequence_string\n"
   ]
  },
  {
   "cell_type": "markdown",
   "metadata": {},
   "source": [
    "**7. Get Sequence Item**"
   ]
  },
  {
   "cell_type": "code",
   "execution_count": null,
   "metadata": {
    "dotnet_interactive": {
     "language": "fsharp"
    },
    "vscode": {
     "languageId": "dotnet-interactive.fsharp"
    }
   },
   "outputs": [
    {
     "name": "stdout",
     "output_type": "stream",
     "text": [
      "The sequence item at position 30 is the byte 65, which corresponds to the character A\r\n"
     ]
    }
   ],
   "source": [
    "// Extract the sequence from the GenBank Flat File\n",
    "let sequence = gbff.Sequence\n",
    "\n",
    "// Get a sequence item stored as a byte\n",
    "let pos = 10\n",
    "let sequence_item = sequence.Item pos\n",
    "\n",
    "// Display the string\n",
    "printfn \"The sequence item at position %d is the byte %O, which corresponds to the character %c\" first sequence_item (char(sequence_item))\n"
   ]
  },
  {
   "cell_type": "markdown",
   "metadata": {},
   "source": [
    "### Metadata\n",
    "The metadata for a genome must still be implemented."
   ]
  }
 ],
 "metadata": {
  "kernelspec": {
   "display_name": ".NET (C#)",
   "language": "C#",
   "name": ".net-csharp"
  },
  "language_info": {
   "file_extension": ".cs",
   "mimetype": "text/x-csharp",
   "name": "C#",
   "pygments_lexer": "csharp",
   "version": "9.0"
  },
  "orig_nbformat": 4
 },
 "nbformat": 4,
 "nbformat_minor": 2
}
